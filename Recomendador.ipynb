{
 "cells": [
  {
   "cell_type": "markdown",
   "metadata": {},
   "source": [
    "# Setup EJECUCIÓN UNICA. \n"
   ]
  },
  {
   "cell_type": "markdown",
   "metadata": {},
   "source": [
    "Import nltk y descargar stopwords de la pestaña de corpus. "
   ]
  },
  {
   "cell_type": "code",
   "execution_count": 1,
   "metadata": {},
   "outputs": [
    {
     "name": "stdout",
     "output_type": "stream",
     "text": [
      "showing info https://raw.githubusercontent.com/nltk/nltk_data/gh-pages/index.xml\n"
     ]
    }
   ],
   "source": [
    "\n",
    "# Descargamos las stopwords desde nltk corpus (Abrira una ventana nueva.)\n",
    "# Tenemos que ir a la pestaña de CORPUS, buscar la parte de las stopwords y darle descargar.  \n",
    "if __name__ == '__main__':\n",
    "    import nltk\n",
    "    nltk.download()\n"
   ]
  },
  {
   "cell_type": "markdown",
   "metadata": {},
   "source": [
    "Tenemos que importat parser desde tika. Para esto debemos instalar tika usando  \n",
    " $pip install tika  \n",
    "Para la instalación debemos contar con JDK\n",
    "\n",
    "**NOTA** No es necesario correr la celda de abajo ya que en el proyecto que se envio ya convertimos los pdfs a txt.  \n",
    "Tampoco es necesario instalar tika a menos que se quiera volver a convertir los pdf en txt. \n"
   ]
  },
  {
   "cell_type": "code",
   "execution_count": 2,
   "metadata": {},
   "outputs": [],
   "source": [
    "\n",
    "\n",
    "if __name__ == '__main__':\n",
    "    from tika import parser #pip install tika REQUIERE JDK\n",
    "\n",
    "import warnings\n",
    "import os\n",
    "import unidecode #pip install unidecode\n",
    "import time\n",
    "#Import TfIdfVectorizer from scikit-learn\n",
    "from sklearn.feature_extraction.text import TfidfVectorizer\n",
    "from nltk.corpus import stopwords\n",
    "import pandas as pd\n",
    "from sklearn.metrics.pairwise import linear_kernel"
   ]
  },
  {
   "cell_type": "markdown",
   "metadata": {},
   "source": [
    "Para nuestro proyecto bajamos los PDF de los planes de cada materia de la carrera de computación.  \n",
    "Esta sección parsea los datos de los pdf a un formato más manejable, archivos de texto (.txt).  \n",
    "Estos estan en la carpeta \"TXT/\"\n",
    "\n",
    "**NOTA**: no es necesario correr la celda de abajo ya que en el proyecto que se envio ya convertimos los pdfs a txt\n"
   ]
  },
  {
   "cell_type": "code",
   "execution_count": 3,
   "metadata": {},
   "outputs": [
    {
     "name": "stdout",
     "output_type": "stream",
     "text": [
      "1089.pdf\n"
     ]
    },
    {
     "name": "stderr",
     "output_type": "stream",
     "text": [
      "2022-01-31 20:18:15,609 [MainThread  ] [WARNI]  Failed to see startup log message; retrying...\n"
     ]
    },
    {
     "name": "stdout",
     "output_type": "stream",
     "text": [
      "1323.pdf\n",
      "1326.pdf\n",
      "1425.pdf\n",
      "1427.pdf\n",
      "1428.pdf\n",
      "1429.pdf\n",
      "1506.pdf\n",
      "1613.pdf\n",
      "1827.pdf\n",
      "1828.pdf\n",
      "1829.pdf\n",
      "249.pdf\n",
      "269.pdf\n",
      "277.pdf\n",
      "291.pdf\n",
      "351.pdf\n",
      "442.pdf\n",
      "446.pdf\n",
      "447.pdf\n",
      "5.pdf\n",
      "625.pdf\n",
      "626.pdf\n",
      "668.pdf\n",
      "669.pdf\n",
      "670.pdf\n",
      "671.pdf\n",
      "672.pdf\n",
      "673.pdf\n",
      "674.pdf\n",
      "676.pdf\n",
      "714.pdf\n",
      "759.pdf\n",
      "760.pdf\n",
      "764.pdf\n",
      "765.pdf\n",
      "777.pdf\n",
      "779.pdf\n",
      "783.pdf\n",
      "784.pdf\n",
      "785.pdf\n",
      "786.pdf\n",
      "787.pdf\n",
      "788.pdf\n",
      "789.pdf\n",
      "790.pdf\n",
      "791.pdf\n",
      "792.pdf\n",
      "793.pdf\n",
      "794.pdf\n",
      "803.pdf\n",
      "805.pdf\n",
      "809.pdf\n",
      "817.pdf\n",
      "819.pdf\n",
      "826.pdf\n",
      "840.pdf\n",
      "1.pdf\n",
      "10.pdf\n",
      "1123.pdf\n",
      "1125.pdf\n",
      "1126.pdf\n",
      "1222.pdf\n",
      "1226.pdf\n",
      "1707.pdf\n",
      "2.pdf\n",
      "2041.pdf\n",
      "259.pdf\n",
      "398.pdf\n",
      "399.pdf\n",
      "422.pdf\n",
      "6.pdf\n",
      "654.pdf\n",
      "655.pdf\n",
      "656.pdf\n",
      "657.pdf\n",
      "658.pdf\n",
      "659.pdf\n",
      "660.pdf\n",
      "661.pdf\n",
      "662.pdf\n",
      "663.pdf\n",
      "664.pdf\n",
      "665.pdf\n",
      "666.pdf\n",
      "667.pdf\n",
      "7.pdf\n",
      "8.pdf\n",
      "801.pdf\n",
      "1532.pdf\n",
      "1533.pdf\n",
      "1534.pdf\n",
      "1535.pdf\n",
      "1536.pdf\n",
      "575.pdf\n",
      "608.pdf\n",
      "621.pdf\n",
      "632.pdf\n",
      "633.pdf\n",
      "634.pdf\n",
      "675.pdf\n",
      "677.pdf\n",
      "678.pdf\n",
      "679.pdf\n",
      "713.pdf\n",
      "771.pdf\n",
      "772.pdf\n",
      "773.pdf\n",
      "774.pdf\n",
      "781.pdf\n",
      "782.pdf\n",
      "814.pdf\n",
      "820.pdf\n",
      "903.pdf\n"
     ]
    }
   ],
   "source": [
    "#no es necesario correr esta sección ya que en el proyecto que se envio ya convertimos los pdfs a txt\n",
    "\n",
    "directory = \"pdf/\"\n",
    "\n",
    "if __name__ == '__main__':\n",
    "    for filename in os.listdir(directory):\n",
    "        if filename.endswith(\".pdf\"): \n",
    "            print(filename)\n",
    "            raw = parser.from_file(os.path.join(directory, filename))\n",
    "            #print(raw['content'])\n",
    "            lines = raw['content']\n",
    "\n",
    "            lines = unidecode.unidecode(lines[77:])\n",
    "            #print(lines)\n",
    "            f = open(os.path.join(\"TXT/\", filename[:-3]+ \"txt\"), 'w')\n",
    "            f.write(lines)\n",
    "            f.close()\n",
    "            time.sleep(.9)\n",
    "            continue\n",
    "        else:\n",
    "            continue\n"
   ]
  },
  {
   "cell_type": "markdown",
   "metadata": {},
   "source": [
    "# Aqui empieza el main"
   ]
  },
  {
   "cell_type": "markdown",
   "metadata": {},
   "source": [
    "El principal problema para la creacion de nuestro recomendador es el Natural Language Processing o procesamiento de lenguaje natural .  \n",
    "Para extraer caracteristicas y similitudes entre los documentos, vamos a calcular los vectores de palabras de cada uno de estos.  \n",
    "Los vectores de palabras son representaciones vectoriales de las palabras de un documento.\n",
    "\n",
    "Para crearlos vamos a utilizar el Term Frequency-Inverse Document Frequency (TF-IDF). Esto nos devolvera una matriz donde cada columna represente una palabra en nuestro vocabulario, y cada columna representara un plan de estudios.\n"
   ]
  },
  {
   "cell_type": "code",
   "execution_count": 4,
   "metadata": {},
   "outputs": [],
   "source": [
    "import os\n",
    "import unidecode #pip install unidecode\n",
    "import time\n",
    "import warnings\n",
    "#Import TfIdfVectorizer from scikit-learn\n",
    "from sklearn.feature_extraction.text import TfidfVectorizer\n",
    "from nltk.corpus import stopwords\n",
    "import pandas as pd\n",
    "from sklearn.metrics.pairwise import linear_kernel\n",
    "\n",
    "\n",
    "\n",
    "# Primero crearemos un diccionario con todos los documentos para poder pasarlos al TF-IDF Vectorizer.\n",
    "\n",
    "\n",
    "directory = \"TXT/\"\n",
    "\n",
    "materias = {}\n",
    "#print(\"hola\")\n",
    "for filename in os.listdir(directory):\n",
    "    if filename.endswith(\".txt\"):\n",
    "        #print(filename) \n",
    "        f = open(os.path.join(directory, filename), 'r')\n",
    "        materias[filename[:-4]] = f.read()\n",
    "\n",
    "#print(materias['1.txt'])\n"
   ]
  },
  {
   "cell_type": "markdown",
   "metadata": {},
   "source": [
    "Para nuestros fines, al tener muchas palabras recurrentes entre los documentos que no sirven para los fines de calculos de similitudes, tenemos que agregarlas a las stopwords para que no sean consideradas para los calculos de similitudes. Son palabras que se encontraban en la mayoria de nuestros archivos como: \"Semestre\",\"Asignatura\",\"examenes\",etc."
   ]
  },
  {
   "cell_type": "code",
   "execution_count": 5,
   "metadata": {},
   "outputs": [],
   "source": [
    "\"\"\"\n",
    "Este metodo crea el objeto TF-IDF Vectorizer y regresa la matriz de similitudes para poder usarla para crear nuestras sugerencias. \n",
    "Recibe como parametro los intereses del alumno con base en los cuales haremos las sugerencias. \n",
    "\"\"\"\n",
    "def train(intereses):\n",
    "    \n",
    "    #Palabras que no consideraremos.\n",
    "    stop_words = stopwords.words('spanish')\n",
    "    my_stop_words = [\"CARRERA\", \"MATEMATICO\", \"SERIACION\", \"INDICATIVA\", \"ANTECEDENTE\", \"MODALIDAD\",\n",
    "                     \"CURSO\", \"CARACTER\", \"TEORICAS\", \"PRACTICAS\", \"CREDITOS\", \"HORAS\", \"SEMANA\", \"SEMESTRE\", \"CLAVE\",\n",
    "                     \"FACULTAD\", \"CIENCIAS\", \"OBJETIVO\", \"BIBLIOGRAFIA\", \"BASICA\", \"COMPLEMENTARIA\", \"SUGERENCIA\",\n",
    "                     \"PARA\", \"LA\", \"EVALUACION\", \"DE\", \"LA\", \"ASIGNATURA\", \"Ademas\", \"de\", \"las\", \"calificaciones\",\n",
    "                     \"en\", \"examenes\",\"examen\", \"y\", \"tareas\", \"se\", \"tomara\", \"en\", \"cuenta\", \"la\", \"participacion\", \"del\", \"alumno\",\n",
    "                     \"PERFIL\", \"PROFESIOGRAFICO\", \"Matematico\", \"fisico\", \"actuario\", \"o\", \"licenciado\", \"en\", \"ciencias\",\n",
    "                     \"de\", \"la\", \"computacion\", \"especialista\", \"en\", \"el\", \"area\", \"de\", \"la\", \"asignatura\", \"a\", \"juicio\",\n",
    "                     \"del\", \"comite\", \"de\", \"asignacion\", \"de\", \"cursos\", \"UNIDADES\", \"TEMATICAS\", \"SERIACION\",\n",
    "                     \"INDICATIVA\", \"ANTECEDENTE\", \"SUBSECUENTE\", \"optativo\", \"Optativas\", \"VERSIDAD\", \"Computacion\", \"el\",\n",
    "                     \"plan\", \"y\", \"programa\", \"de\", \"estudios\", \"de\", \"la\", \"licenciatura\", \"en\", \"Ciencias\", \"Computacion\",\n",
    "                     \">Ciencias\",\n",
    "                     ]\n",
    "    stop_words.append(my_stop_words)\n",
    "    materias[0] = intereses\n",
    "    \n",
    "    data = pd.Series(materias).to_frame()\n",
    "    #type(data)\n",
    "    data = data.rename(columns={0: 'Planes'})\n",
    "    #data[\"index\"] = pd.to_numeric(data[\"index\"])\n",
    "    data.index = data.index.map(int)\n",
    "    data.sort_index(inplace=True)\n",
    "\n",
    "    #print(data.columns)\n",
    "    #print(data.index)\n",
    "\n",
    "\n",
    "    #Creamos un objeto TF-IDF Vectorizer. Y le decimos que palabras ignorar, en este caso, nuestra version extendida de las stop_words. \n",
    "    with warnings.catch_warnings():\n",
    "        warnings.filterwarnings(\"ignore\")\n",
    "        tfidf = TfidfVectorizer(stop_words)\n",
    "\n",
    "    #Creamos la matriz TF-IDF ajustando y transformando los datos\n",
    "    #print(data['Planes'])\n",
    "    tfidf_matrix = tfidf.fit_transform(data['Planes'])\n",
    "\n",
    "    #Imprimimos las dimensiones de nuestra matriz\n",
    "    tfidf_matrix.shape\n",
    "\n",
    "    # Con get_feature_names podemos imprimir las palabras encontradas en todos los archivos \n",
    "    # ordenadas segun las ocurrencias usamos esta linea para encontrar palabras que agregar a nuestras stopwords. \n",
    "    # las palabras que se repetian mucho sin contribuir a los temas de los planes. como (matematicas,semestre,carrera,etc)\n",
    "    tfidf.get_feature_names()[2990:3007]\n",
    "\n",
    "\n",
    "    # Finalmente calculamos la matriz coseno de similaridades.\n",
    "    cosine_sim = linear_kernel(tfidf_matrix, tfidf_matrix)\n",
    "    (cosine_sim.shape)\n",
    "    #print(cosine_sim[1])\n",
    "    \n",
    "    return data, cosine_sim\n",
    "    \n"
   ]
  },
  {
   "cell_type": "code",
   "execution_count": 6,
   "metadata": {},
   "outputs": [],
   "source": [
    "\"\"\"\n",
    "Este metodo manda a llamar al metodo train, el cual creara la matriz de similitudes que usaremos para nuestras sugerencias. \n",
    "\n",
    "Recibe como parametro los intereses del alumno con base en los cuales haremos las sugerencias. \n",
    "\n",
    "Regresa las 10 claves de materia mas similares a los gustos del estudiante. \n",
    "\"\"\"\n",
    "\n",
    "\n",
    "def get_recommendations(intereses):\n",
    "    # Obtenemos los indices con la matriz de similitudes.\n",
    "    data, matriz_similitudes = train(intereses)\n",
    "\n",
    "    # Tomamos la similitud de cada documento con nuestra lista de intereses.\n",
    "    # Recordemos que nuestra lista de intereses es el indice 0 de la matriz, asi lo hicismo en train()\n",
    "    sim_scores = list(enumerate(matriz_similitudes[0]))\n",
    "    #print(sim_scores)\n",
    "\n",
    "    # Ordenamos los planes basados en las puntuaciones de similitud.\n",
    "    sim_scores = sorted(sim_scores, key=lambda x: x[1], reverse=True)\n",
    "    #print(sim_scores)\n",
    "\n",
    "    # Tomamos las puntuaciones de los primeros 10 mas similares.\n",
    "    sim_scores = sim_scores[0:11]\n",
    "\n",
    "    # Buscamos los indices de estos primeros 10, para saber la clave de materias a la que corresponden\n",
    "    recomendaciones = [i[0] for i in sim_scores]\n",
    "    #print(recomendaciones)\n",
    "\n",
    "    # Regresamos las 10 claves de materias mas similares\n",
    "    return list(data.iloc[recomendaciones].index[1:])"
   ]
  },
  {
   "cell_type": "markdown",
   "metadata": {},
   "source": [
    "## Ejemplos (Clave materias)"
   ]
  },
  {
   "cell_type": "code",
   "execution_count": 7,
   "metadata": {},
   "outputs": [
    {
     "data": {
      "text/plain": [
       "[1429, 1089, 786, 1707, 5, 7, 784, 781, 764, 777]"
      ]
     },
     "execution_count": 7,
     "metadata": {},
     "output_type": "execute_result"
    }
   ],
   "source": [
    "recomendacion = get_recommendations(\"Ecuaciones diferenciales\")\n",
    "recomendacion"
   ]
  },
  {
   "cell_type": "code",
   "execution_count": 8,
   "metadata": {},
   "outputs": [
    {
     "data": {
      "text/plain": [
       "[669, 10, 1828, 1532, 801, 1089, 817, 1707, 399, 1533]"
      ]
     },
     "execution_count": 8,
     "metadata": {},
     "output_type": "execute_result"
    }
   ],
   "source": [
    "recomendacion = get_recommendations(\"Analisis Númerico criptografia\")\n",
    "recomendacion\n"
   ]
  },
  {
   "cell_type": "code",
   "execution_count": 9,
   "metadata": {},
   "outputs": [
    {
     "data": {
      "text/plain": [
       "[608, 664, 773, 676, 903, 781, 819, 1532, 1323, 666]"
      ]
     },
     "execution_count": 9,
     "metadata": {},
     "output_type": "execute_result"
    }
   ],
   "source": [
    "get_recommendations('Inteligencia Artificial')\n"
   ]
  },
  {
   "cell_type": "markdown",
   "metadata": {},
   "source": [
    "## Ejemplos (Nombre Materias)\n",
    "\n",
    "** Para usar el recomendador, la sintaxis sera "
   ]
  },
  {
   "cell_type": "code",
   "execution_count": 10,
   "metadata": {},
   "outputs": [],
   "source": [
    "#Para mejorar la facilidad de los resultados, vamos a pasar de la clave de materias a el nombre de la materia. \n",
    "\n",
    "def recomendaciones(intereses):\n",
    "    listaClaves = get_recommendations(intereses)\n",
    "\n",
    "\n",
    "    data = pd.read_csv(\"claves.csv\")\n",
    "    lista= []\n",
    "    for clave in listaClaves:\n",
    "        lista.append(data[data['CLAVE'] == clave][[\"CLAVE\",\"NOMBRE\",\"SEMESTRE\"]])\n",
    "\n",
    "    data = pd.concat(lista)\n",
    "    data.reset_index(drop=True, inplace=True)\n",
    "    return data\n"
   ]
  },
  {
   "cell_type": "code",
   "execution_count": 11,
   "metadata": {},
   "outputs": [
    {
     "data": {
      "text/html": [
       "<div>\n",
       "<style scoped>\n",
       "    .dataframe tbody tr th:only-of-type {\n",
       "        vertical-align: middle;\n",
       "    }\n",
       "\n",
       "    .dataframe tbody tr th {\n",
       "        vertical-align: top;\n",
       "    }\n",
       "\n",
       "    .dataframe thead th {\n",
       "        text-align: right;\n",
       "    }\n",
       "</style>\n",
       "<table border=\"1\" class=\"dataframe\">\n",
       "  <thead>\n",
       "    <tr style=\"text-align: right;\">\n",
       "      <th></th>\n",
       "      <th>CLAVE</th>\n",
       "      <th>NOMBRE</th>\n",
       "      <th>SEMESTRE</th>\n",
       "    </tr>\n",
       "  </thead>\n",
       "  <tbody>\n",
       "    <tr>\n",
       "      <th>0</th>\n",
       "      <td>608</td>\n",
       "      <td>Inteligencia Artificial</td>\n",
       "      <td>6</td>\n",
       "    </tr>\n",
       "    <tr>\n",
       "      <th>1</th>\n",
       "      <td>773</td>\n",
       "      <td>Reconocimiento de Patrones y Aprendizaje Autom...</td>\n",
       "      <td>Optativa</td>\n",
       "    </tr>\n",
       "    <tr>\n",
       "      <th>2</th>\n",
       "      <td>676</td>\n",
       "      <td>Programación Declarativa</td>\n",
       "      <td>Optativa</td>\n",
       "    </tr>\n",
       "    <tr>\n",
       "      <th>3</th>\n",
       "      <td>903</td>\n",
       "      <td>Robótica Móvil</td>\n",
       "      <td>Optativa</td>\n",
       "    </tr>\n",
       "    <tr>\n",
       "      <th>4</th>\n",
       "      <td>781</td>\n",
       "      <td>Redes Neuronales</td>\n",
       "      <td>Optativa</td>\n",
       "    </tr>\n",
       "    <tr>\n",
       "      <th>5</th>\n",
       "      <td>819</td>\n",
       "      <td>Lingüística Computacional</td>\n",
       "      <td>Optativa</td>\n",
       "    </tr>\n",
       "    <tr>\n",
       "      <th>6</th>\n",
       "      <td>1532</td>\n",
       "      <td>Análisis de Algoritmos</td>\n",
       "      <td>5</td>\n",
       "    </tr>\n",
       "    <tr>\n",
       "      <th>7</th>\n",
       "      <td>1323</td>\n",
       "      <td>Modelado y Programación</td>\n",
       "      <td>3</td>\n",
       "    </tr>\n",
       "  </tbody>\n",
       "</table>\n",
       "</div>"
      ],
      "text/plain": [
       "   CLAVE                                             NOMBRE  SEMESTRE\n",
       "0    608                            Inteligencia Artificial         6\n",
       "1    773  Reconocimiento de Patrones y Aprendizaje Autom...  Optativa\n",
       "2    676                           Programación Declarativa  Optativa\n",
       "3    903                                     Robótica Móvil  Optativa\n",
       "4    781                                   Redes Neuronales  Optativa\n",
       "5    819                          Lingüística Computacional  Optativa\n",
       "6   1532                             Análisis de Algoritmos         5\n",
       "7   1323                            Modelado y Programación         3"
      ]
     },
     "execution_count": 11,
     "metadata": {},
     "output_type": "execute_result"
    }
   ],
   "source": [
    "recomendaciones('Inteligencia Artificial')\n"
   ]
  },
  {
   "cell_type": "code",
   "execution_count": 12,
   "metadata": {},
   "outputs": [
    {
     "data": {
      "text/html": [
       "<div>\n",
       "<style scoped>\n",
       "    .dataframe tbody tr th:only-of-type {\n",
       "        vertical-align: middle;\n",
       "    }\n",
       "\n",
       "    .dataframe tbody tr th {\n",
       "        vertical-align: top;\n",
       "    }\n",
       "\n",
       "    .dataframe thead th {\n",
       "        text-align: right;\n",
       "    }\n",
       "</style>\n",
       "<table border=\"1\" class=\"dataframe\">\n",
       "  <thead>\n",
       "    <tr style=\"text-align: right;\">\n",
       "      <th></th>\n",
       "      <th>CLAVE</th>\n",
       "      <th>NOMBRE</th>\n",
       "      <th>SEMESTRE</th>\n",
       "    </tr>\n",
       "  </thead>\n",
       "  <tbody>\n",
       "    <tr>\n",
       "      <th>0</th>\n",
       "      <td>669</td>\n",
       "      <td>Introducción a la Criptografía</td>\n",
       "      <td>Optativa</td>\n",
       "    </tr>\n",
       "    <tr>\n",
       "      <th>1</th>\n",
       "      <td>1828</td>\n",
       "      <td>Criptografí­a y Seguridad</td>\n",
       "      <td>8</td>\n",
       "    </tr>\n",
       "    <tr>\n",
       "      <th>2</th>\n",
       "      <td>1532</td>\n",
       "      <td>Análisis de Algoritmos</td>\n",
       "      <td>5</td>\n",
       "    </tr>\n",
       "    <tr>\n",
       "      <th>3</th>\n",
       "      <td>1089</td>\n",
       "      <td>Tecnologí­as para Desarrollos en Internet</td>\n",
       "      <td>Optativa</td>\n",
       "    </tr>\n",
       "    <tr>\n",
       "      <th>4</th>\n",
       "      <td>817</td>\n",
       "      <td>Compiladores</td>\n",
       "      <td>7</td>\n",
       "    </tr>\n",
       "    <tr>\n",
       "      <th>5</th>\n",
       "      <td>1533</td>\n",
       "      <td>Computación Distribuida</td>\n",
       "      <td>5</td>\n",
       "    </tr>\n",
       "  </tbody>\n",
       "</table>\n",
       "</div>"
      ],
      "text/plain": [
       "   CLAVE                                     NOMBRE  SEMESTRE\n",
       "0    669             Introducción a la Criptografía  Optativa\n",
       "1   1828                  Criptografí­a y Seguridad         8\n",
       "2   1532                     Análisis de Algoritmos         5\n",
       "3   1089  Tecnologí­as para Desarrollos en Internet  Optativa\n",
       "4    817                               Compiladores         7\n",
       "5   1533                    Computación Distribuida         5"
      ]
     },
     "execution_count": 12,
     "metadata": {},
     "output_type": "execute_result"
    }
   ],
   "source": [
    "recomendaciones(\"Analisis Númerico criptografia\")\n"
   ]
  },
  {
   "cell_type": "code",
   "execution_count": 13,
   "metadata": {},
   "outputs": [
    {
     "data": {
      "text/html": [
       "<div>\n",
       "<style scoped>\n",
       "    .dataframe tbody tr th:only-of-type {\n",
       "        vertical-align: middle;\n",
       "    }\n",
       "\n",
       "    .dataframe tbody tr th {\n",
       "        vertical-align: top;\n",
       "    }\n",
       "\n",
       "    .dataframe thead th {\n",
       "        text-align: right;\n",
       "    }\n",
       "</style>\n",
       "<table border=\"1\" class=\"dataframe\">\n",
       "  <thead>\n",
       "    <tr style=\"text-align: right;\">\n",
       "      <th></th>\n",
       "      <th>CLAVE</th>\n",
       "      <th>NOMBRE</th>\n",
       "      <th>SEMESTRE</th>\n",
       "    </tr>\n",
       "  </thead>\n",
       "  <tbody>\n",
       "    <tr>\n",
       "      <th>0</th>\n",
       "      <td>1429</td>\n",
       "      <td>Matemáticas para las Ciencias Aplicadas IV</td>\n",
       "      <td>4</td>\n",
       "    </tr>\n",
       "    <tr>\n",
       "      <th>1</th>\n",
       "      <td>1089</td>\n",
       "      <td>Tecnologí­as para Desarrollos en Internet</td>\n",
       "      <td>Optativa</td>\n",
       "    </tr>\n",
       "    <tr>\n",
       "      <th>2</th>\n",
       "      <td>786</td>\n",
       "      <td>Sistemas Dinámicos Computacionales I</td>\n",
       "      <td>Optativa</td>\n",
       "    </tr>\n",
       "    <tr>\n",
       "      <th>3</th>\n",
       "      <td>5</td>\n",
       "      <td>Álgebra Lineal I</td>\n",
       "      <td>3</td>\n",
       "    </tr>\n",
       "    <tr>\n",
       "      <th>4</th>\n",
       "      <td>784</td>\n",
       "      <td>Seminario de Ciencias de la Computación B</td>\n",
       "      <td>Optativa</td>\n",
       "    </tr>\n",
       "    <tr>\n",
       "      <th>5</th>\n",
       "      <td>781</td>\n",
       "      <td>Redes Neuronales</td>\n",
       "      <td>Optativa</td>\n",
       "    </tr>\n",
       "    <tr>\n",
       "      <th>6</th>\n",
       "      <td>764</td>\n",
       "      <td>Teorí­a de los Números I</td>\n",
       "      <td>Optativa</td>\n",
       "    </tr>\n",
       "    <tr>\n",
       "      <th>7</th>\n",
       "      <td>777</td>\n",
       "      <td>Teorí­a de los Números II</td>\n",
       "      <td>Optativa</td>\n",
       "    </tr>\n",
       "  </tbody>\n",
       "</table>\n",
       "</div>"
      ],
      "text/plain": [
       "   CLAVE                                      NOMBRE  SEMESTRE\n",
       "0   1429  Matemáticas para las Ciencias Aplicadas IV         4\n",
       "1   1089   Tecnologí­as para Desarrollos en Internet  Optativa\n",
       "2    786        Sistemas Dinámicos Computacionales I  Optativa\n",
       "3      5                            Álgebra Lineal I         3\n",
       "4    784   Seminario de Ciencias de la Computación B  Optativa\n",
       "5    781                            Redes Neuronales  Optativa\n",
       "6    764                    Teorí­a de los Números I  Optativa\n",
       "7    777                   Teorí­a de los Números II  Optativa"
      ]
     },
     "execution_count": 13,
     "metadata": {},
     "output_type": "execute_result"
    }
   ],
   "source": [
    "recomendaciones(\"Ecuaciones diferenciales\")\n"
   ]
  }
 ],
 "metadata": {
  "kernelspec": {
   "display_name": "Python 3",
   "language": "python",
   "name": "python3"
  },
  "language_info": {
   "codemirror_mode": {
    "name": "ipython",
    "version": 3
   },
   "file_extension": ".py",
   "mimetype": "text/x-python",
   "name": "python",
   "nbconvert_exporter": "python",
   "pygments_lexer": "ipython3",
   "version": "3.8.3"
  }
 },
 "nbformat": 4,
 "nbformat_minor": 4
}
